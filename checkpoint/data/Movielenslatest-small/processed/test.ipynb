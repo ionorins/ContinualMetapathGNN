{
 "cells": [
  {
   "cell_type": "code",
   "execution_count": 1,
   "metadata": {},
   "outputs": [],
   "source": [
    "import pickle\n",
    "\n",
    "d = pickle.load(open('ml_latest-small_core_10_type_hete.pkl', 'rb'))"
   ]
  },
  {
   "cell_type": "code",
   "execution_count": 2,
   "metadata": {},
   "outputs": [
    {
     "data": {
      "text/plain": [
       "dict_keys(['unique_uids', 'num_uids', 'unique_iids', 'num_iids', 'unique_genres', 'num_genres', 'unique_years', 'num_years', 'unique_directors', 'num_directors', 'unique_actors', 'num_actors', 'unique_writers', 'num_writers', 'unique_tids', 'num_tids', 'num_nodes', 'num_node_types', 'e2nid_dict', 'nid2e_dict', 'rating_np', 'edge_index_nps', 'test_pos_unid_inid_map', 'neg_unid_inid_map', 'edge_type_dict', 'num_edge_types', 'item_nid_occs', 'types', 'num_nodes_dict', 'type_accs'])"
      ]
     },
     "execution_count": 2,
     "metadata": {},
     "output_type": "execute_result"
    }
   ],
   "source": [
    "d.keys()"
   ]
  },
  {
   "cell_type": "code",
   "execution_count": 3,
   "metadata": {},
   "outputs": [],
   "source": [
    "import numpy as np\n",
    "\n",
    "unique, counts = np.unique(d['edge_index_nps']['user2item'][0], return_counts=True)"
   ]
  },
  {
   "cell_type": "code",
   "execution_count": 4,
   "metadata": {},
   "outputs": [
    {
     "data": {
      "text/plain": [
       "175.9464800539701"
      ]
     },
     "execution_count": 4,
     "metadata": {},
     "output_type": "execute_result"
    }
   ],
   "source": [
    "np.std(counts)"
   ]
  },
  {
   "cell_type": "code",
   "execution_count": 5,
   "metadata": {},
   "outputs": [],
   "source": [
    "import pandas as pd"
   ]
  },
  {
   "cell_type": "code",
   "execution_count": 6,
   "metadata": {},
   "outputs": [],
   "source": [
    "movies = pd.read_csv('../raw/raw_movies.csv', sep=';').fillna('')\n",
    "ratings = pd.read_csv('../raw/raw_ratings.csv', sep=';')\n",
    "tagging = pd.read_csv('../raw/raw_tagging.csv', sep=';')"
   ]
  },
  {
   "cell_type": "code",
   "execution_count": 7,
   "metadata": {},
   "outputs": [],
   "source": [
    "def reindex_df_mlsmall(movies, ratings, tagging):\n",
    "    \"\"\"\n",
    "\n",
    "    Args:\n",
    "        movies:\n",
    "        ratings:\n",
    "        tagging:\n",
    "        genome_tagging:\n",
    "        genome_tags:\n",
    "\n",
    "    Returns:\n",
    "\n",
    "    \"\"\"\n",
    "    # Reindex uid\n",
    "    unique_uids = np.sort(ratings.uid.unique()).astype(np.int)\n",
    "    uids = np.arange(unique_uids.shape[0]).astype(np.int)\n",
    "    raw_uid2uid = {raw_uid: uid for raw_uid, uid in zip(unique_uids, uids)}\n",
    "    ratings['uid'] = np.array([raw_uid2uid[raw_uid] for raw_uid in ratings.uid], dtype=np.int)\n",
    "    tagging['uid'] = np.array([raw_uid2uid[raw_uid] for raw_uid in tagging.uid], dtype=np.int)\n",
    "\n",
    "    # Reindex iid\n",
    "    unique_iids = np.sort(movies.iid.unique()).astype(np.int)\n",
    "    iids = np.arange(unique_iids.shape[0]).astype(np.int)\n",
    "    raw_iid2iid = {raw_iid: iid for raw_iid, iid in zip(unique_iids, iids)}\n",
    "    movies['iid'] = np.array([raw_iid2iid[raw_iid] for raw_iid in movies.iid], dtype=np.int)\n",
    "    ratings['iid'] = np.array([raw_iid2iid[raw_iid] for raw_iid in ratings.iid], dtype=np.int)\n",
    "    tagging['iid'] = np.array([raw_iid2iid[raw_iid] for raw_iid in tagging.iid], dtype=np.int)\n",
    "\n",
    "    # Create tid\n",
    "    unique_tags = np.sort(tagging.tag.unique()).astype(np.str)\n",
    "    tids = np.arange(unique_tags.shape[0]).astype(np.int)\n",
    "    tags = pd.DataFrame({'tid': tids, 'tag': unique_tags})\n",
    "    tag2tid = {tag: tid for tag, tid in zip(unique_tags, tids)}\n",
    "    tagging['tid'] = np.array([tag2tid[tag] for tag in tagging.tag], dtype=np.int)\n",
    "    tagging = tagging.drop(columns=['tag'])\n",
    "\n",
    "    return movies, ratings, tagging, tags\n",
    "\n",
    "num_feat_core = 10\n",
    "num_core = 10\n",
    "\n",
    "movies = movies.drop_duplicates()\n",
    "ratings = ratings.drop_duplicates()\n",
    "tagging = tagging.drop_duplicates()\n",
    "\n",
    "movies = movies[movies.iid.isin(ratings.iid.unique())]\n",
    "ratings = ratings[ratings.iid.isin(movies.iid.unique())]\n",
    "tagging = tagging[tagging.iid.isin(ratings.iid.unique())]\n",
    "tagging = tagging[tagging.uid.isin(ratings.uid.unique())]\n",
    "\n",
    "movie_count = ratings['iid'].value_counts()\n",
    "movie_count.name = 'movie_count'\n",
    "ratings = ratings[ratings.join(movie_count, on='iid').movie_count > num_core]\n",
    "\n",
    "user_count = ratings['uid'].value_counts()\n",
    "user_count.name = 'user_count'\n",
    "ratings = ratings[ratings.join(user_count, on='uid').user_count > num_core]\n",
    "\n",
    "movies = movies[movies.iid.isin(ratings.iid.unique())]\n",
    "tagging = tagging[tagging.iid.isin(ratings.iid.unique())]\n",
    "tagging = tagging[tagging.uid.isin(ratings.uid.unique())]\n",
    "\n",
    "tag_count = tagging['tag'].value_counts()\n",
    "tag_count.name = 'tag_count'\n",
    "tagging = tagging[tagging.join(tag_count, on='tag').tag_count > num_feat_core]\n",
    "\n",
    "years = movies.year.to_numpy()\n",
    "years[years < 1950] = 1950\n",
    "movies['year'] = years\n",
    "\n",
    "years = movies.year.to_numpy().astype(np.int)\n",
    "min_year = min(years)\n",
    "max_year = max(years)\n",
    "num_years = (max_year - min_year) // 10\n",
    "discretized_years = [min_year + i * 10 for i in range(num_years + 1)]\n",
    "for i in range(len(discretized_years) - 1):\n",
    "    years[(discretized_years[i] <= years) & (years < discretized_years[i + 1])] = str(\n",
    "    discretized_years[i])\n",
    "    years[years < discretized_years[0]] = discretized_years[0]\n",
    "    years[years >= discretized_years[-1]] = discretized_years[-1]\n",
    "\n",
    "movies['year'] = years\n",
    "\n",
    "movies, ratings, tagging, tags = reindex_df_mlsmall(\n",
    "                    movies, ratings, tagging)"
   ]
  },
  {
   "cell_type": "code",
   "execution_count": 8,
   "metadata": {},
   "outputs": [],
   "source": [
    "ratings = ratings.sort_values('timestamp')"
   ]
  },
  {
   "cell_type": "code",
   "execution_count": 14,
   "metadata": {},
   "outputs": [
    {
     "name": "stdout",
     "output_type": "stream",
     "text": [
      "55\n",
      "std: 26.63478121269131 mean: 54.54545454545455\n",
      "55\n",
      "std: 39.146725478671634 mean: 54.54545454545455\n",
      "44\n",
      "std: 66.7451982363024 mean: 68.18181818181819\n",
      "29\n",
      "std: 101.18388389015473 mean: 103.44827586206897\n",
      "18\n",
      "std: 158.06046662942353 mean: 166.66666666666666\n",
      "31\n",
      "std: 105.44275611865437 mean: 96.7741935483871\n",
      "39\n",
      "std: 88.71168645454479 mean: 76.92307692307692\n",
      "29\n",
      "std: 107.94365906115148 mean: 103.44827586206897\n",
      "31\n",
      "std: 136.89735021291455 mean: 96.7741935483871\n",
      "28\n",
      "std: 108.5441695103605 mean: 107.14285714285714\n",
      "36\n",
      "std: 132.79223538211028 mean: 83.33333333333333\n",
      "40\n",
      "std: 112.98694614865913 mean: 75.0\n",
      "33\n",
      "std: 152.88743405889494 mean: 90.9090909090909\n",
      "34\n",
      "std: 150.0445147327422 mean: 88.23529411764706\n",
      "35\n",
      "std: 91.40977485354348 mean: 85.71428571428571\n",
      "40\n",
      "std: 125.48485964450055 mean: 75.0\n",
      "42\n",
      "std: 109.71741687000222 mean: 71.42857142857143\n",
      "54\n",
      "std: 75.02263033064352 mean: 55.55555555555556\n",
      "41\n",
      "std: 99.53842313374473 mean: 73.17073170731707\n",
      "44\n",
      "std: 64.19121744206302 mean: 68.18181818181819\n",
      "34\n",
      "std: 138.19808009723056 mean: 88.23529411764706\n",
      "35\n",
      "std: 129.38526553968777 mean: 85.71428571428571\n",
      "34\n",
      "std: 120.10193190970288 mean: 88.23529411764706\n",
      "34\n",
      "std: 162.10600359451243 mean: 88.23529411764706\n",
      "37\n",
      "std: 189.60262547765643 mean: 81.08108108108108\n"
     ]
    }
   ],
   "source": [
    "tf_size = 3000\n",
    "\n",
    "for i in range(25):\n",
    "    tf = ratings[i*tf_size:(i+1)*tf_size]\n",
    "    print(len(tf['uid'].unique()))\n",
    "    counts = tf['uid'].value_counts().to_numpy()\n",
    "    print(f'std: {np.std(counts)} mean: {np.mean(counts)}')"
   ]
  },
  {
   "cell_type": "code",
   "execution_count": 10,
   "metadata": {},
   "outputs": [
    {
     "name": "stdout",
     "output_type": "stream",
     "text": [
      "cv: 0.7442735006202479\n"
     ]
    }
   ],
   "source": [
    "counts = ratings['uid'].value_counts().to_numpy()\n",
    "print(f'cv: {np.mean(counts)/np.std(counts)}')"
   ]
  },
  {
   "cell_type": "code",
   "execution_count": 15,
   "metadata": {},
   "outputs": [
    {
     "data": {
      "text/plain": [
       "608"
      ]
     },
     "execution_count": 15,
     "metadata": {},
     "output_type": "execute_result"
    }
   ],
   "source": [
    "len(ratings['uid'].unique())"
   ]
  },
  {
   "cell_type": "code",
   "execution_count": 21,
   "metadata": {},
   "outputs": [
    {
     "data": {
      "text/plain": [
       "array([ 209,   26,   24,  177,   44,  220,  136,   47,   29,  102,   60,\n",
       "         32,   28,   46,  130,   95,  105,  422,  513,  206,  342,  114,\n",
       "         95,  108,   23,   21,  120,  417,   76,   34,   44,   97,  120,\n",
       "         77,   23,   50,   21,   78,   97,   93,  201,  358,  100,   41,\n",
       "        359,   42,  103,   32,   21,  180,  273,  116,   20,   30,   25,\n",
       "         46,  408,  112,   91,   22,   39,  314,  253,  485,   34,  281,\n",
       "         32, 1064,   44,   59,   34,   43,  170,  113,   64,  114,   29,\n",
       "         61,   55,  137,   26,  193,  105,  236,   20,   68,   21,   50,\n",
       "        174,   29,  458,   24,   93,   56,  145,   75,   34,   87,   48,\n",
       "        136,   54,   56,  333,  208,  460,   32,   34,   50,  120,   45,\n",
       "        391,   65,  101,   28,  107,   85,  157,   22,  171,   22,   58,\n",
       "        268,   50,   50,  202,   38,   22,   27,  133,   28,   64,  315,\n",
       "         35,   35,  258,   98,  123,   19,  193,  423,  168,   37,   51,\n",
       "        125,   23,   30,   20,   45,   54,   26,   45,   57,  150,   32,\n",
       "         40,  303,   20,   22,   95,  367,   37,   37,   21,   34,   57,\n",
       "        184,  165,   79,  230,   50,   75,   26,   24,   67,   36,  714,\n",
       "         72,   66,   24,  104,  717,   51,   63,   36,  189,  200,   36,\n",
       "         20,   66,   68,   22,   33,   20,  166,   32,   32,  203,  311,\n",
       "        319,  108,  328,   44,   61,   25,   25,   20,   26,   32,   95,\n",
       "         89,  201,   71,   19,   90,  139,  445,   26,  481,  194,  256,\n",
       "        207,   71,   47,   67,  437,   85,   25,   63,  134,   24,  550,\n",
       "        129,  165,   65,   26,   48,   30,  276,  123,   62,   35,   36,\n",
       "         85,   17,  169,  148,   43,  748,   24,   21,   30,   34,  118,\n",
       "         36,  156,   20,   25,   28,  119,   53,   48,  186,   54,  138,\n",
       "        170,   55,  104,   26,   40,   38,   31,   53,  937,  305,   40,\n",
       "         25,   20,  162,  163,   21,  231,   33,   84,   31,  105,  133,\n",
       "        771,   17,  204,   30,  368,   21,  328,   41,   22,   68,  662,\n",
       "         23,   32,  112,   31,   50,  201,  530,   69,  620,  110,   74,\n",
       "         50,   23,  191,  297,  121,   25,   53,  172,  511,   35,   15,\n",
       "         56,  102,   95,   13,  196,  116,   44,  252,   20,  243,  166,\n",
       "        232,   19,  139,   28,   55,   70,   24,  304,   28,   44,   54,\n",
       "         52,   68,   42,  120,   45,   53,   37,   40,   97,  275,   85,\n",
       "        225,   24,  254,  335,   25,   70,   20,   89,   96,   28,   21,\n",
       "        197,   31,  143,  362,  118,   92,   35,  202,   98,   33,   33,\n",
       "        130,   67,   47,   36,  838,  431,  194,   23,   55,  177,   67,\n",
       "        646,   19,   34,   64,  328,   25,  118,   23,   58,   28,   18,\n",
       "         40,   36,   43,   63,   46,   30,   60,   92,   19,   22,  116,\n",
       "        109,  124,  122,   87,   56, 1569,   90,   46,   64,   87,  122,\n",
       "        122,   33,   59,   23,  122,  297,   86,   64,  279,   50,   56,\n",
       "         20,  217,   22,  232,   42,   91,  115,  490,   20,   31,   42,\n",
       "         20,   35,   41,   74,   84,   78,  975,   37,   41,   33,  197,\n",
       "        274,   32,   57,   37,   50,   55,   26,   75,   27,  282,   32,\n",
       "        121,  102,  113,   18,   33,  400,   78,   27,   29,   32, 1037,\n",
       "        154,   64,  504,   20,  122,  690,   27,  102,  589,  241,   23,\n",
       "         55,   51,   94,  555,   98,   60,   87,   55,   21,  246,   24,\n",
       "         48,   35,   14,   74,   39,   31,   63,   78,   27,   35,   21,\n",
       "         24,  354,   98,   46,   50,   31,  277,   25,   20,  324,   24,\n",
       "         25,  169,   38,  177,   64,  127,  439,   49,  134,   62,   24,\n",
       "         27,   20,   45,   31,  386,   22,   38,   41,   30,   38,   36,\n",
       "         80,  112,   66,   15,   19,   38,   16,   16,   20,   26,  116,\n",
       "        184,   72,   75,  402,   26,   27,   40,  133,  379,  472,  194,\n",
       "        111,  106,   29,   73,  207,   21,   20,  190,   42,  138,  284,\n",
       "         23,   20,   20,  146,   68,  372,   40,   56,   50,   83,   59,\n",
       "        171,  136,   53,   40,  647,   50,   89,  101,  150,   18,  333,\n",
       "        377,   14, 1327,  606,   94,  125,  541,   85,  160,  618,  169,\n",
       "        727,   27,  730])"
      ]
     },
     "execution_count": 21,
     "metadata": {},
     "output_type": "execute_result"
    }
   ],
   "source": [
    "ratings.groupby(\"uid\").count().iid.values"
   ]
  },
  {
   "cell_type": "code",
   "execution_count": null,
   "metadata": {},
   "outputs": [],
   "source": []
  }
 ],
 "metadata": {
  "interpreter": {
   "hash": "e7370f93d1d0cde622a1f8e1c04877d8463912d04d973331ad4851f04de6915a"
  },
  "kernelspec": {
   "display_name": "Python 3 (ipykernel)",
   "language": "python",
   "name": "python3"
  },
  "language_info": {
   "codemirror_mode": {
    "name": "ipython",
    "version": 3
   },
   "file_extension": ".py",
   "mimetype": "text/x-python",
   "name": "python",
   "nbconvert_exporter": "python",
   "pygments_lexer": "ipython3",
   "version": "3.7.12"
  }
 },
 "nbformat": 4,
 "nbformat_minor": 2
}
